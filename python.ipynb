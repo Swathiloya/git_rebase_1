{
 "cells": [
  {
   "cell_type": "code",
   "execution_count": 1,
   "id": "1cd15723",
   "metadata": {},
   "outputs": [],
   "source": [
    "#----------------->1.Dictionary slicing\n"
   ]
  },
  {
   "cell_type": "code",
   "execution_count": 1,
   "id": "6fe423a0",
   "metadata": {},
   "outputs": [
    {
     "name": "stdout",
     "output_type": "stream",
     "text": [
      "{'Friend_Names': ['anitha', 'vanaja', 'devi', 'durga', 'jaya sri', 'prasanna', 'mallika', 'anusha', 'naveena', 'fathima'], 'Quality': ['intelligent', 'active', 'humanity', 'clever', 'thinkar', 'cool', 'silent', 'helpfull', 'hard working', 'funny']}\n"
     ]
    }
   ],
   "source": [
    "dict={\"Friend_Names\":[\"anitha\",\"vanaja\",\"devi\",\"durga\",\"jaya sri\",\"prasanna\",\"mallika\",\"anusha\",\"naveena\",\"fathima\"],\"Quality\":[\"intelligent\",\"active\",\"humanity\",\"clever\",\"thinkar\",\"cool\",\"silent\",\"helpfull\",\"hard working\",\"funny\"]}\n",
    "print(dict)"
   ]
  },
  {
   "cell_type": "code",
   "execution_count": 2,
   "id": "47c34fc4",
   "metadata": {},
   "outputs": [
    {
     "data": {
      "text/html": [
       "<div>\n",
       "<style scoped>\n",
       "    .dataframe tbody tr th:only-of-type {\n",
       "        vertical-align: middle;\n",
       "    }\n",
       "\n",
       "    .dataframe tbody tr th {\n",
       "        vertical-align: top;\n",
       "    }\n",
       "\n",
       "    .dataframe thead th {\n",
       "        text-align: right;\n",
       "    }\n",
       "</style>\n",
       "<table border=\"1\" class=\"dataframe\">\n",
       "  <thead>\n",
       "    <tr style=\"text-align: right;\">\n",
       "      <th></th>\n",
       "      <th>Friend_Names</th>\n",
       "      <th>Quality</th>\n",
       "    </tr>\n",
       "  </thead>\n",
       "  <tbody>\n",
       "    <tr>\n",
       "      <th>0</th>\n",
       "      <td>anitha</td>\n",
       "      <td>intelligent</td>\n",
       "    </tr>\n",
       "    <tr>\n",
       "      <th>1</th>\n",
       "      <td>vanaja</td>\n",
       "      <td>active</td>\n",
       "    </tr>\n",
       "    <tr>\n",
       "      <th>2</th>\n",
       "      <td>devi</td>\n",
       "      <td>humanity</td>\n",
       "    </tr>\n",
       "    <tr>\n",
       "      <th>3</th>\n",
       "      <td>durga</td>\n",
       "      <td>clever</td>\n",
       "    </tr>\n",
       "    <tr>\n",
       "      <th>4</th>\n",
       "      <td>jaya sri</td>\n",
       "      <td>thinkar</td>\n",
       "    </tr>\n",
       "    <tr>\n",
       "      <th>5</th>\n",
       "      <td>prasanna</td>\n",
       "      <td>cool</td>\n",
       "    </tr>\n",
       "    <tr>\n",
       "      <th>6</th>\n",
       "      <td>mallika</td>\n",
       "      <td>silent</td>\n",
       "    </tr>\n",
       "    <tr>\n",
       "      <th>7</th>\n",
       "      <td>anusha</td>\n",
       "      <td>helpfull</td>\n",
       "    </tr>\n",
       "    <tr>\n",
       "      <th>8</th>\n",
       "      <td>naveena</td>\n",
       "      <td>hard working</td>\n",
       "    </tr>\n",
       "    <tr>\n",
       "      <th>9</th>\n",
       "      <td>fathima</td>\n",
       "      <td>funny</td>\n",
       "    </tr>\n",
       "  </tbody>\n",
       "</table>\n",
       "</div>"
      ],
      "text/plain": [
       "  Friend_Names       Quality\n",
       "0       anitha   intelligent\n",
       "1       vanaja        active\n",
       "2         devi      humanity\n",
       "3        durga        clever\n",
       "4     jaya sri       thinkar\n",
       "5     prasanna          cool\n",
       "6      mallika        silent\n",
       "7       anusha      helpfull\n",
       "8      naveena  hard working\n",
       "9      fathima         funny"
      ]
     },
     "execution_count": 2,
     "metadata": {},
     "output_type": "execute_result"
    }
   ],
   "source": [
    "import pandas as pd\n",
    "df=pd.DataFrame(dict)\n",
    "df"
   ]
  },
  {
   "cell_type": "code",
   "execution_count": 3,
   "id": "f7fe560b",
   "metadata": {},
   "outputs": [
    {
     "data": {
      "text/html": [
       "<div>\n",
       "<style scoped>\n",
       "    .dataframe tbody tr th:only-of-type {\n",
       "        vertical-align: middle;\n",
       "    }\n",
       "\n",
       "    .dataframe tbody tr th {\n",
       "        vertical-align: top;\n",
       "    }\n",
       "\n",
       "    .dataframe thead th {\n",
       "        text-align: right;\n",
       "    }\n",
       "</style>\n",
       "<table border=\"1\" class=\"dataframe\">\n",
       "  <thead>\n",
       "    <tr style=\"text-align: right;\">\n",
       "      <th></th>\n",
       "      <th>Friend_Names</th>\n",
       "      <th>Quality</th>\n",
       "    </tr>\n",
       "  </thead>\n",
       "  <tbody>\n",
       "    <tr>\n",
       "      <th>0</th>\n",
       "      <td>anitha</td>\n",
       "      <td>intelligent</td>\n",
       "    </tr>\n",
       "    <tr>\n",
       "      <th>1</th>\n",
       "      <td>vanaja</td>\n",
       "      <td>active</td>\n",
       "    </tr>\n",
       "    <tr>\n",
       "      <th>2</th>\n",
       "      <td>devi</td>\n",
       "      <td>humanity</td>\n",
       "    </tr>\n",
       "    <tr>\n",
       "      <th>3</th>\n",
       "      <td>durga</td>\n",
       "      <td>clever</td>\n",
       "    </tr>\n",
       "    <tr>\n",
       "      <th>4</th>\n",
       "      <td>jaya sri</td>\n",
       "      <td>thinkar</td>\n",
       "    </tr>\n",
       "    <tr>\n",
       "      <th>5</th>\n",
       "      <td>prasanna</td>\n",
       "      <td>cool</td>\n",
       "    </tr>\n",
       "    <tr>\n",
       "      <th>6</th>\n",
       "      <td>mallika</td>\n",
       "      <td>silent</td>\n",
       "    </tr>\n",
       "    <tr>\n",
       "      <th>7</th>\n",
       "      <td>anusha</td>\n",
       "      <td>helpfull</td>\n",
       "    </tr>\n",
       "    <tr>\n",
       "      <th>8</th>\n",
       "      <td>naveena</td>\n",
       "      <td>hard working</td>\n",
       "    </tr>\n",
       "    <tr>\n",
       "      <th>9</th>\n",
       "      <td>fathima</td>\n",
       "      <td>funny</td>\n",
       "    </tr>\n",
       "  </tbody>\n",
       "</table>\n",
       "</div>"
      ],
      "text/plain": [
       "  Friend_Names       Quality\n",
       "0       anitha   intelligent\n",
       "1       vanaja        active\n",
       "2         devi      humanity\n",
       "3        durga        clever\n",
       "4     jaya sri       thinkar\n",
       "5     prasanna          cool\n",
       "6      mallika        silent\n",
       "7       anusha      helpfull\n",
       "8      naveena  hard working\n",
       "9      fathima         funny"
      ]
     },
     "execution_count": 3,
     "metadata": {},
     "output_type": "execute_result"
    }
   ],
   "source": [
    "df=pd.DataFrame(dict)\n",
    "df"
   ]
  },
  {
   "cell_type": "code",
   "execution_count": 4,
   "id": "e9fa4213",
   "metadata": {},
   "outputs": [
    {
     "data": {
      "text/plain": [
       "Index(['Friend_Names', 'Quality'], dtype='object')"
      ]
     },
     "execution_count": 4,
     "metadata": {},
     "output_type": "execute_result"
    }
   ],
   "source": [
    "df.keys()"
   ]
  },
  {
   "cell_type": "code",
   "execution_count": 5,
   "id": "63d348e9",
   "metadata": {},
   "outputs": [
    {
     "data": {
      "text/plain": [
       "'anitha'"
      ]
     },
     "execution_count": 5,
     "metadata": {},
     "output_type": "execute_result"
    }
   ],
   "source": [
    "df[\"Friend_Names\"][0]"
   ]
  },
  {
   "cell_type": "code",
   "execution_count": 6,
   "id": "b276e942",
   "metadata": {},
   "outputs": [
    {
     "data": {
      "text/plain": [
       "0      anitha\n",
       "1      vanaja\n",
       "2        devi\n",
       "3       durga\n",
       "4    jaya sri\n",
       "Name: Friend_Names, dtype: object"
      ]
     },
     "execution_count": 6,
     "metadata": {},
     "output_type": "execute_result"
    }
   ],
   "source": [
    "df[\"Friend_Names\"][0:5]"
   ]
  },
  {
   "cell_type": "code",
   "execution_count": 7,
   "id": "158b8605",
   "metadata": {},
   "outputs": [
    {
     "data": {
      "text/plain": [
       "6    mallika\n",
       "7     anusha\n",
       "8    naveena\n",
       "9    fathima\n",
       "Name: Friend_Names, dtype: object"
      ]
     },
     "execution_count": 7,
     "metadata": {},
     "output_type": "execute_result"
    }
   ],
   "source": [
    "df[\"Friend_Names\"][6:10]"
   ]
  },
  {
   "cell_type": "code",
   "execution_count": 8,
   "id": "fab0fa56",
   "metadata": {},
   "outputs": [
    {
     "data": {
      "text/plain": [
       "0    anitha\n",
       "1    vanaja\n",
       "Name: Friend_Names, dtype: object"
      ]
     },
     "execution_count": 8,
     "metadata": {},
     "output_type": "execute_result"
    }
   ],
   "source": [
    "df[\"Friend_Names\"][0:2]"
   ]
  },
  {
   "cell_type": "code",
   "execution_count": 9,
   "id": "03c48b2a",
   "metadata": {},
   "outputs": [
    {
     "data": {
      "text/plain": [
       "0      anitha\n",
       "1      vanaja\n",
       "2        devi\n",
       "3       durga\n",
       "4    jaya sri\n",
       "5    prasanna\n",
       "6     mallika\n",
       "Name: Friend_Names, dtype: object"
      ]
     },
     "execution_count": 9,
     "metadata": {},
     "output_type": "execute_result"
    }
   ],
   "source": [
    "df[\"Friend_Names\"][:-3]"
   ]
  },
  {
   "cell_type": "code",
   "execution_count": 10,
   "id": "9747bbf7",
   "metadata": {},
   "outputs": [
    {
     "data": {
      "text/plain": [
       "0      anitha\n",
       "1      vanaja\n",
       "2        devi\n",
       "3       durga\n",
       "4    jaya sri\n",
       "Name: Friend_Names, dtype: object"
      ]
     },
     "execution_count": 10,
     "metadata": {},
     "output_type": "execute_result"
    }
   ],
   "source": [
    "df[\"Friend_Names\"][:-5]"
   ]
  },
  {
   "cell_type": "code",
   "execution_count": 11,
   "id": "1474aff4",
   "metadata": {},
   "outputs": [
    {
     "data": {
      "text/plain": [
       "5    prasanna\n",
       "6     mallika\n",
       "7      anusha\n",
       "8     naveena\n",
       "9     fathima\n",
       "Name: Friend_Names, dtype: object"
      ]
     },
     "execution_count": 11,
     "metadata": {},
     "output_type": "execute_result"
    }
   ],
   "source": [
    "df[\"Friend_Names\"][-5:]"
   ]
  },
  {
   "cell_type": "code",
   "execution_count": null,
   "id": "4c79541e",
   "metadata": {},
   "outputs": [],
   "source": [
    "#-------------------->2.⁠loops with dictionary"
   ]
  },
  {
   "cell_type": "code",
   "execution_count": null,
   "id": "5b8f4d00",
   "metadata": {},
   "outputs": [],
   "source": [
    "df={\"Friend_Names\":[\"anitha\",\"vanaja\",\"devi\",\"durga\",\"jaya sri\",\"prasanna\",\"mallika\",\"anusha\",\"naveena\",\"fathima\"],\"Quality\":[\"intelligent\",\"active\",\"humanity\",\"clever\",\"thinkar\",\"cool\",\"silent\",\"helpfull\",\"hard working\",\"funny\"]}\n",
    "for key,value in df.items(): \n",
    "    print(key,value)"
   ]
  },
  {
   "cell_type": "code",
   "execution_count": null,
   "id": "aa3a4848",
   "metadata": {},
   "outputs": [],
   "source": [
    "⁠#---------------------->3.loops conditions with dictionary"
   ]
  },
  {
   "cell_type": "code",
   "execution_count": null,
   "id": "05d6f13b",
   "metadata": {},
   "outputs": [],
   "source": [
    "df={\"Friend_Names\":[\"anitha\",\"vanaja\",\"devi\",\"durga\",\"jaya sri\",\"prasanna\",\"mallika\",\"anusha\",\"naveena\",\"fathima\"],\"Quality\":[\"intelligent\",\"active\",\"humanity\",\"clever\",\"thinkar\",\"cool\",\"silent\",\"helpfull\",\"hard working\",\"funny\"]}\n",
    "for x in df:\n",
    "    print(df)"
   ]
  },
  {
   "cell_type": "code",
   "execution_count": null,
   "id": "e48daca4",
   "metadata": {},
   "outputs": [],
   "source": [
    "#-------------------------->4.⁠user define function creation"
   ]
  },
  {
   "cell_type": "code",
   "execution_count": null,
   "id": "533b9487",
   "metadata": {},
   "outputs": [],
   "source": [
    "def fun():\n",
    "    Friend_Names=(\"anitha\",\"vanaja\")\n",
    "    Qulity=(\"intelligent\",\"active\")\n",
    "    return( Friend_Names,Qulity)\n",
    "\n",
    "(Friend_Names,Qulity)=fun()\n",
    "print(fun())\n",
    "    "
   ]
  },
  {
   "cell_type": "code",
   "execution_count": null,
   "id": "a836db0c",
   "metadata": {},
   "outputs": [],
   "source": [
    "#-------------------------->5.⁠⁠pandas filter (row filters , columns filter , value filter)"
   ]
  },
  {
   "cell_type": "code",
   "execution_count": null,
   "id": "7da041fe",
   "metadata": {},
   "outputs": [],
   "source": [
    "import pandas\n",
    "import pandas as pd\n",
    "df=pd.read_excel(r\"C:\\Users\\hp\\OneDrive\\Documents\\swathi_pandas\\friends_names.xlsx\")\n",
    "df"
   ]
  },
  {
   "cell_type": "code",
   "execution_count": null,
   "id": "b5910a48",
   "metadata": {},
   "outputs": [],
   "source": [
    "df.s_no.unique()"
   ]
  },
  {
   "cell_type": "code",
   "execution_count": null,
   "id": "f0c74ae5",
   "metadata": {},
   "outputs": [],
   "source": [
    "df.friend_names.unique()"
   ]
  },
  {
   "cell_type": "code",
   "execution_count": null,
   "id": "a2982893",
   "metadata": {},
   "outputs": [],
   "source": [
    "df.quality.unique()"
   ]
  },
  {
   "cell_type": "code",
   "execution_count": null,
   "id": "df9f35c1",
   "metadata": {},
   "outputs": [],
   "source": [
    "df.columns"
   ]
  },
  {
   "cell_type": "code",
   "execution_count": null,
   "id": "3d30be18",
   "metadata": {},
   "outputs": [],
   "source": [
    "df[df[\"friend_names\"]==\"anitha\"]"
   ]
  },
  {
   "cell_type": "code",
   "execution_count": null,
   "id": "e7397b5c",
   "metadata": {},
   "outputs": [],
   "source": [
    "df[df[\"friend_names\"]!=\"anitha\"]"
   ]
  },
  {
   "cell_type": "code",
   "execution_count": null,
   "id": "78f6c836",
   "metadata": {},
   "outputs": [],
   "source": [
    "#---------------------------->6.⁠pandas group by"
   ]
  },
  {
   "cell_type": "code",
   "execution_count": null,
   "id": "18bc6f7a",
   "metadata": {},
   "outputs": [],
   "source": [
    "import pandas\n",
    "import pandas as pd\n",
    "df=pd.read_excel(r\"C:\\Users\\hp\\OneDrive\\Documents\\swathi_pandas_1\\students_markes.xlsx\")\n",
    "df"
   ]
  },
  {
   "cell_type": "code",
   "execution_count": null,
   "id": "e167c84b",
   "metadata": {},
   "outputs": [],
   "source": [
    "df1=df.groupby(\"names\")[\"markes\"].sum()\n",
    "df1"
   ]
  },
  {
   "cell_type": "code",
   "execution_count": null,
   "id": "7ceb2837",
   "metadata": {},
   "outputs": [],
   "source": [
    "df2=df.groupby(\"names\")[\"markes\"].count()\n",
    "df2"
   ]
  },
  {
   "cell_type": "code",
   "execution_count": null,
   "id": "81f9a292",
   "metadata": {},
   "outputs": [],
   "source": [
    "#---------------------->7.⁠pandas merges and joins"
   ]
  },
  {
   "cell_type": "code",
   "execution_count": null,
   "id": "93cfe04e",
   "metadata": {},
   "outputs": [],
   "source": [
    "import pandas\n",
    "import pandas as pd\n",
    "df1_sch=pd.read_excel(r\"C:\\Users\\hp\\OneDrive\\Documents\\antssignme_12\\school_mets_names.xlsx\")\n",
    "df1_sch"
   ]
  },
  {
   "cell_type": "code",
   "execution_count": null,
   "id": "812e9a9e",
   "metadata": {},
   "outputs": [],
   "source": [
    "import pandas\n",
    "import pandas as pd\n",
    "df2_coll=pd.read_excel(r\"C:\\Users\\hp\\OneDrive\\Documents\\antssignme_12\\college_mets_names.xlsx\")\n",
    "df2_coll"
   ]
  },
  {
   "cell_type": "code",
   "execution_count": null,
   "id": "ea4c5c08",
   "metadata": {},
   "outputs": [],
   "source": [
    "pd.concat([df1_sch,df2_coll], axis=1)"
   ]
  },
  {
   "cell_type": "code",
   "execution_count": null,
   "id": "71328722",
   "metadata": {},
   "outputs": [],
   "source": [
    "pd.concat([df1_sch,df2_coll], axis=0)"
   ]
  },
  {
   "cell_type": "code",
   "execution_count": null,
   "id": "0902f8a1",
   "metadata": {},
   "outputs": [],
   "source": [
    "df_inner_merge=df1_sch.merge(df2_coll,how='inner',on='friend_names')\n",
    "df_inner_merge"
   ]
  },
  {
   "cell_type": "code",
   "execution_count": null,
   "id": "17067834",
   "metadata": {},
   "outputs": [],
   "source": [
    "df_left_merge=df1_sch.merge(df2_coll,how='left',on='friend_names')\n",
    "df_left_merge"
   ]
  },
  {
   "cell_type": "code",
   "execution_count": null,
   "id": "890949b0",
   "metadata": {},
   "outputs": [],
   "source": [
    "df_right_merge=df1_sch.merge(df2_coll,how='left',on='friend_names')\n",
    "df_right_merge"
   ]
  },
  {
   "cell_type": "code",
   "execution_count": null,
   "id": "992e4aae",
   "metadata": {},
   "outputs": [],
   "source": [
    "df_outer_merge=df1_sch.merge(df2_coll,how='outer',on='friend_names')\n",
    "df_outer_merge"
   ]
  },
  {
   "cell_type": "code",
   "execution_count": null,
   "id": "0dda78f3",
   "metadata": {},
   "outputs": [],
   "source": [
    "#-------------------------->pandas groupby"
   ]
  },
  {
   "cell_type": "code",
   "execution_count": null,
   "id": "9dadc4fc",
   "metadata": {},
   "outputs": [],
   "source": [
    "import pandas\n",
    "import pandas as pd\n",
    "df=pd.read_csv(r\"C:\\Users\\hp\\Downloads\\CarPrice_Assignment.csv\")\n",
    "df"
   ]
  },
  {
   "cell_type": "code",
   "execution_count": null,
   "id": "d9af39c0",
   "metadata": {},
   "outputs": [],
   "source": [
    "df1=pd.DataFrame(df)\n",
    "df1"
   ]
  },
  {
   "cell_type": "code",
   "execution_count": null,
   "id": "dd7ec621",
   "metadata": {},
   "outputs": [],
   "source": [
    "df2=df.groupby(\"CarName\")[\"horsepower\"].count()\n",
    "df2"
   ]
  },
  {
   "cell_type": "code",
   "execution_count": null,
   "id": "56b691fc",
   "metadata": {},
   "outputs": [],
   "source": [
    "df3=df.groupby(\"CarName\")[\"horsepower\"].sum()\n",
    "df3"
   ]
  },
  {
   "cell_type": "code",
   "execution_count": null,
   "id": "7033e308",
   "metadata": {},
   "outputs": [],
   "source": [
    "df4=df.groupby([\"CarName\",\"fueltype\"])[\"price\"].count()\n",
    "df4"
   ]
  },
  {
   "cell_type": "code",
   "execution_count": null,
   "id": "8b1f7ddb",
   "metadata": {},
   "outputs": [],
   "source": [
    "df5=df.groupby([\"CarName\",\"fueltype\"])[\"price\"].sum()\n",
    "df5"
   ]
  },
  {
   "cell_type": "code",
   "execution_count": null,
   "id": "918e6821",
   "metadata": {},
   "outputs": [],
   "source": [
    "df6=df.groupby([\"CarName\",\"fueltype\"]).agg({\"horsepower\":[\"sum\",\"count\",\"mean\",\"median\"],\"enginesize\":[\"count\",\"sum\"]})\n",
    "df6"
   ]
  },
  {
   "cell_type": "code",
   "execution_count": null,
   "id": "296ae4be",
   "metadata": {},
   "outputs": [],
   "source": [
    "df7=df.groupby([\"CarName\",\"doornumber\"]).agg({\"peakrpm\":[\"sum\",\"count\",\"mean\",\"median\"],\"highwaympg\":[\"count\",\"sum\"]})\n",
    "df7"
   ]
  },
  {
   "cell_type": "code",
   "execution_count": null,
   "id": "2d4d3c67",
   "metadata": {},
   "outputs": [],
   "source": [
    "df8=df.groupby([\"CarName\",\"doornumber\"])[\"price\"].sum()\n",
    "df8"
   ]
  },
  {
   "cell_type": "code",
   "execution_count": null,
   "id": "8c8f85f4",
   "metadata": {},
   "outputs": [],
   "source": [
    "df9=df.groupby([\"CarName\",\"doornumber\"])[\"price\"].count()\n",
    "df9"
   ]
  },
  {
   "cell_type": "code",
   "execution_count": null,
   "id": "68a0cb6c",
   "metadata": {},
   "outputs": [],
   "source": [
    "#-------------------------------->pivot table"
   ]
  },
  {
   "cell_type": "code",
   "execution_count": null,
   "id": "cdd34c06",
   "metadata": {},
   "outputs": [],
   "source": [
    "df10=pd.pivot_table(df,values='doornumber',index='CarName',columns='horsepower',aggfunc='sum')\n",
    "df10"
   ]
  },
  {
   "cell_type": "code",
   "execution_count": null,
   "id": "9f59c673",
   "metadata": {},
   "outputs": [],
   "source": [
    "df11=pd.pivot_table(df,values='doornumber',index='CarName',columns='horsepower',aggfunc='count')\n",
    "df11"
   ]
  },
  {
   "cell_type": "code",
   "execution_count": null,
   "id": "7babde59",
   "metadata": {},
   "outputs": [],
   "source": [
    "df12=pd.pivot_table(df,values='price',index='CarName',columns='carbody',aggfunc='sum')\n",
    "df12"
   ]
  },
  {
   "cell_type": "code",
   "execution_count": null,
   "id": "9796e7bd",
   "metadata": {},
   "outputs": [],
   "source": [
    "df12=pd.pivot_table(df,values='price',index='CarName',columns='carbody',aggfunc='count')\n",
    "df12"
   ]
  },
  {
   "cell_type": "code",
   "execution_count": null,
   "id": "71fec8a9",
   "metadata": {},
   "outputs": [],
   "source": [
    "df13=pd.pivot_table(df,values='price',index='CarName',columns='enginelocation',aggfunc='sum')\n",
    "df13"
   ]
  },
  {
   "cell_type": "code",
   "execution_count": null,
   "id": "2036e08a",
   "metadata": {},
   "outputs": [],
   "source": [
    "df14=pd.pivot_table(df,values='price',index='CarName',columns='enginelocation',aggfunc='count')\n",
    "df14"
   ]
  },
  {
   "cell_type": "code",
   "execution_count": null,
   "id": "a24799ab",
   "metadata": {},
   "outputs": [],
   "source": [
    "df15=pd.pivot_table(df,values='price',index='CarName',columns='enginelocation',aggfunc='mean')\n",
    "df15"
   ]
  },
  {
   "cell_type": "code",
   "execution_count": null,
   "id": "38303c00",
   "metadata": {},
   "outputs": [],
   "source": [
    "df16=pd.pivot_table(df,values='price',index='CarName',columns='enginelocation',aggfunc='median')\n",
    "df16"
   ]
  },
  {
   "cell_type": "code",
   "execution_count": null,
   "id": "4fc6d638",
   "metadata": {},
   "outputs": [],
   "source": [
    "df18=pd.pivot_table(df,values='price',index='CarName',columns='boreratio',aggfunc='sum')\n",
    "df18"
   ]
  },
  {
   "cell_type": "code",
   "execution_count": null,
   "id": "1f403a68",
   "metadata": {},
   "outputs": [],
   "source": [
    "df19=pd.pivot_table(df,values='price',index='CarName',columns='boreratio',aggfunc='count')\n",
    "df19"
   ]
  },
  {
   "cell_type": "code",
   "execution_count": null,
   "id": "a58ae82e",
   "metadata": {},
   "outputs": [],
   "source": [
    "df20=pd.pivot_table(df,values='price',index='CarName',columns='compressionratio',aggfunc='sum')\n",
    "df20"
   ]
  },
  {
   "cell_type": "code",
   "execution_count": null,
   "id": "c5dfdfbf",
   "metadata": {},
   "outputs": [],
   "source": [
    "dict={\"Friend_Names\":[\"anitha\",\"vanaja\",\"devi\",\"durga\",\"jaya sri\",\"prasanna\",\"mallika\",\"anusha\",\"naveena\",\"fathima\"],\"Quality\":[\"intelligent\",\"active\",\"humanity\",\"clever\",\"thinkar\",\"cool\",\"silent\",\"helpfull\",\"hard working\",\"funny\"]}\n",
    "print(dict)"
   ]
  },
  {
   "cell_type": "code",
   "execution_count": null,
   "id": "f74cbcc1",
   "metadata": {},
   "outputs": [],
   "source": []
  },
  {
   "cell_type": "code",
   "execution_count": null,
   "id": "531d5782",
   "metadata": {},
   "outputs": [],
   "source": []
  },
  {
   "cell_type": "code",
   "execution_count": null,
   "id": "8773b3d7",
   "metadata": {},
   "outputs": [],
   "source": []
  }
 ],
 "metadata": {
  "kernelspec": {
   "display_name": "Python 3 (ipykernel)",
   "language": "python",
   "name": "python3"
  },
  "language_info": {
   "codemirror_mode": {
    "name": "ipython",
    "version": 3
   },
   "file_extension": ".py",
   "mimetype": "text/x-python",
   "name": "python",
   "nbconvert_exporter": "python",
   "pygments_lexer": "ipython3",
   "version": "3.10.9"
  }
 },
 "nbformat": 4,
 "nbformat_minor": 5
}
